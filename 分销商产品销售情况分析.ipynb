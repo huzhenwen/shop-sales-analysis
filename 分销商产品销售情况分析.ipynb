{
 "cells": [
  {
   "cell_type": "markdown",
   "metadata": {},
   "source": [
    "# 分销商产品销售情况分析"
   ]
  },
  {
   "cell_type": "code",
   "execution_count": 67,
   "metadata": {},
   "outputs": [],
   "source": [
    "import pandas as pd\n",
    "import numpy as np\n",
    "import matplotlib.pyplot as plt\n",
    "import matplotlib as mpl\n",
    "import seaborn as sns\n",
    "import warnings\n",
    "warnings.filterwarnings(\"ignore\")"
   ]
  },
  {
   "cell_type": "code",
   "execution_count": 76,
   "metadata": {},
   "outputs": [],
   "source": [
    "%matplotlib inline\n",
    "plt.style.use(\"ggplot\")\n",
    "\n",
    "mpl.rcParams['font.sans-serif'] = ['SimHei']\n",
    "mpl.rcParams['font.family']= 'SimHei'\n",
    "mpl.rcParams['axes.unicode_minus']=False\n",
    "\n",
    "pd.set_option(\"precision\", 2)\n",
    "pd.set_option(\"display.float_format\", lambda x: \"%.2f\" % x)"
   ]
  },
  {
   "cell_type": "markdown",
   "metadata": {},
   "source": [
    "## 第一部分：数据读取及概览"
   ]
  },
  {
   "cell_type": "code",
   "execution_count": 3,
   "metadata": {},
   "outputs": [],
   "source": [
    "df_sales = pd.read_csv(\"sales_train.csv\")\n",
    "df_categories = pd.read_csv(\"item_categories.csv\")\n",
    "df_items = pd.read_csv(\"items.csv\")\n",
    "df_shops = pd.read_csv(\"shops.csv\")"
   ]
  },
  {
   "cell_type": "markdown",
   "metadata": {},
   "source": [
    "- sales_train_v2.csv：训练数据集，包含 2013 年到 2015 年的历史销售数据；\n",
    "- item_categories.csv：销售商品的类别信息；\n",
    "- items.csv：销售商品名称；\n",
    "- shops.csv：销售商店的名称；"
   ]
  },
  {
   "cell_type": "code",
   "execution_count": 4,
   "metadata": {
    "scrolled": true
   },
   "outputs": [
    {
     "data": {
      "text/html": [
       "<div>\n",
       "<style scoped>\n",
       "    .dataframe tbody tr th:only-of-type {\n",
       "        vertical-align: middle;\n",
       "    }\n",
       "\n",
       "    .dataframe tbody tr th {\n",
       "        vertical-align: top;\n",
       "    }\n",
       "\n",
       "    .dataframe thead th {\n",
       "        text-align: right;\n",
       "    }\n",
       "</style>\n",
       "<table border=\"1\" class=\"dataframe\">\n",
       "  <thead>\n",
       "    <tr style=\"text-align: right;\">\n",
       "      <th></th>\n",
       "      <th>date</th>\n",
       "      <th>date_block_num</th>\n",
       "      <th>shop_id</th>\n",
       "      <th>item_id</th>\n",
       "      <th>item_price</th>\n",
       "      <th>item_cnt_day</th>\n",
       "    </tr>\n",
       "  </thead>\n",
       "  <tbody>\n",
       "    <tr>\n",
       "      <th>0</th>\n",
       "      <td>02.01.2013</td>\n",
       "      <td>0</td>\n",
       "      <td>59</td>\n",
       "      <td>22154</td>\n",
       "      <td>999.00</td>\n",
       "      <td>1.00</td>\n",
       "    </tr>\n",
       "    <tr>\n",
       "      <th>1</th>\n",
       "      <td>03.01.2013</td>\n",
       "      <td>0</td>\n",
       "      <td>25</td>\n",
       "      <td>2552</td>\n",
       "      <td>899.00</td>\n",
       "      <td>1.00</td>\n",
       "    </tr>\n",
       "    <tr>\n",
       "      <th>2</th>\n",
       "      <td>05.01.2013</td>\n",
       "      <td>0</td>\n",
       "      <td>25</td>\n",
       "      <td>2552</td>\n",
       "      <td>899.00</td>\n",
       "      <td>-1.00</td>\n",
       "    </tr>\n",
       "    <tr>\n",
       "      <th>3</th>\n",
       "      <td>06.01.2013</td>\n",
       "      <td>0</td>\n",
       "      <td>25</td>\n",
       "      <td>2554</td>\n",
       "      <td>1709.05</td>\n",
       "      <td>1.00</td>\n",
       "    </tr>\n",
       "    <tr>\n",
       "      <th>4</th>\n",
       "      <td>15.01.2013</td>\n",
       "      <td>0</td>\n",
       "      <td>25</td>\n",
       "      <td>2555</td>\n",
       "      <td>1099.00</td>\n",
       "      <td>1.00</td>\n",
       "    </tr>\n",
       "  </tbody>\n",
       "</table>\n",
       "</div>"
      ],
      "text/plain": [
       "         date  date_block_num  shop_id  item_id  item_price  item_cnt_day\n",
       "0  02.01.2013               0       59    22154      999.00          1.00\n",
       "1  03.01.2013               0       25     2552      899.00          1.00\n",
       "2  05.01.2013               0       25     2552      899.00         -1.00\n",
       "3  06.01.2013               0       25     2554     1709.05          1.00\n",
       "4  15.01.2013               0       25     2555     1099.00          1.00"
      ]
     },
     "execution_count": 4,
     "metadata": {},
     "output_type": "execute_result"
    }
   ],
   "source": [
    "df_sales.head()"
   ]
  },
  {
   "cell_type": "markdown",
   "metadata": {},
   "source": [
    "- data：时间信息；\n",
    "- date_block_num：月数，例如：将 2013.2 看做是 1 月，2014.2 看作是 13 月；\n",
    "- shop_id：商店的 ID；\n",
    "- item_id：商品的 ID；\n",
    "- item_price：商品的价格；\n",
    "- item_cnt_day：商品每天的销售量。"
   ]
  },
  {
   "cell_type": "code",
   "execution_count": 5,
   "metadata": {
    "scrolled": true
   },
   "outputs": [
    {
     "name": "stdout",
     "output_type": "stream",
     "text": [
      "<class 'pandas.core.frame.DataFrame'>\n",
      "RangeIndex: 2935849 entries, 0 to 2935848\n",
      "Data columns (total 6 columns):\n",
      "date              object\n",
      "date_block_num    int64\n",
      "shop_id           int64\n",
      "item_id           int64\n",
      "item_price        float64\n",
      "item_cnt_day      float64\n",
      "dtypes: float64(2), int64(3), object(1)\n",
      "memory usage: 134.4+ MB\n"
     ]
    }
   ],
   "source": [
    "df_sales.info()"
   ]
  },
  {
   "cell_type": "code",
   "execution_count": 6,
   "metadata": {},
   "outputs": [
    {
     "data": {
      "text/html": [
       "<div>\n",
       "<style scoped>\n",
       "    .dataframe tbody tr th:only-of-type {\n",
       "        vertical-align: middle;\n",
       "    }\n",
       "\n",
       "    .dataframe tbody tr th {\n",
       "        vertical-align: top;\n",
       "    }\n",
       "\n",
       "    .dataframe thead th {\n",
       "        text-align: right;\n",
       "    }\n",
       "</style>\n",
       "<table border=\"1\" class=\"dataframe\">\n",
       "  <thead>\n",
       "    <tr style=\"text-align: right;\">\n",
       "      <th></th>\n",
       "      <th>date_block_num</th>\n",
       "      <th>shop_id</th>\n",
       "      <th>item_id</th>\n",
       "      <th>item_price</th>\n",
       "      <th>item_cnt_day</th>\n",
       "    </tr>\n",
       "  </thead>\n",
       "  <tbody>\n",
       "    <tr>\n",
       "      <th>count</th>\n",
       "      <td>2935849.00</td>\n",
       "      <td>2935849.00</td>\n",
       "      <td>2935849.00</td>\n",
       "      <td>2935849.00</td>\n",
       "      <td>2935849.00</td>\n",
       "    </tr>\n",
       "    <tr>\n",
       "      <th>mean</th>\n",
       "      <td>14.57</td>\n",
       "      <td>33.00</td>\n",
       "      <td>10197.23</td>\n",
       "      <td>890.85</td>\n",
       "      <td>1.24</td>\n",
       "    </tr>\n",
       "    <tr>\n",
       "      <th>std</th>\n",
       "      <td>9.42</td>\n",
       "      <td>16.23</td>\n",
       "      <td>6324.30</td>\n",
       "      <td>1729.80</td>\n",
       "      <td>2.62</td>\n",
       "    </tr>\n",
       "    <tr>\n",
       "      <th>min</th>\n",
       "      <td>0.00</td>\n",
       "      <td>0.00</td>\n",
       "      <td>0.00</td>\n",
       "      <td>-1.00</td>\n",
       "      <td>-22.00</td>\n",
       "    </tr>\n",
       "    <tr>\n",
       "      <th>25%</th>\n",
       "      <td>7.00</td>\n",
       "      <td>22.00</td>\n",
       "      <td>4476.00</td>\n",
       "      <td>249.00</td>\n",
       "      <td>1.00</td>\n",
       "    </tr>\n",
       "    <tr>\n",
       "      <th>50%</th>\n",
       "      <td>14.00</td>\n",
       "      <td>31.00</td>\n",
       "      <td>9343.00</td>\n",
       "      <td>399.00</td>\n",
       "      <td>1.00</td>\n",
       "    </tr>\n",
       "    <tr>\n",
       "      <th>75%</th>\n",
       "      <td>23.00</td>\n",
       "      <td>47.00</td>\n",
       "      <td>15684.00</td>\n",
       "      <td>999.00</td>\n",
       "      <td>1.00</td>\n",
       "    </tr>\n",
       "    <tr>\n",
       "      <th>max</th>\n",
       "      <td>33.00</td>\n",
       "      <td>59.00</td>\n",
       "      <td>22169.00</td>\n",
       "      <td>307980.00</td>\n",
       "      <td>2169.00</td>\n",
       "    </tr>\n",
       "  </tbody>\n",
       "</table>\n",
       "</div>"
      ],
      "text/plain": [
       "       date_block_num    shop_id    item_id  item_price  item_cnt_day\n",
       "count      2935849.00 2935849.00 2935849.00  2935849.00    2935849.00\n",
       "mean            14.57      33.00   10197.23      890.85          1.24\n",
       "std              9.42      16.23    6324.30     1729.80          2.62\n",
       "min              0.00       0.00       0.00       -1.00        -22.00\n",
       "25%              7.00      22.00    4476.00      249.00          1.00\n",
       "50%             14.00      31.00    9343.00      399.00          1.00\n",
       "75%             23.00      47.00   15684.00      999.00          1.00\n",
       "max             33.00      59.00   22169.00   307980.00       2169.00"
      ]
     },
     "execution_count": 6,
     "metadata": {},
     "output_type": "execute_result"
    }
   ],
   "source": [
    "df_sales.describe()"
   ]
  },
  {
   "cell_type": "code",
   "execution_count": 7,
   "metadata": {
    "scrolled": true
   },
   "outputs": [],
   "source": [
    "df_sales.date = pd.to_datetime(df_sales.date, format=\"%d.%m.%Y\")\n",
    "df_sales[\"monthly\"] = df_sales.date.dt.month\n",
    "df_sales[\"weekday\"] = df_sales.date.dt.weekday\n",
    "df_sales[\"daily\"] = df_sales.date.dt.day\n",
    "df_sales[\"month\"] = df_sales.date.dt.to_period(\"M\")\n",
    "df_sales[\"year\"] = df_sales.date.dt.to_period(\"Y\")\n",
    "df_sales.sort_values(\"date\", inplace=True)"
   ]
  },
  {
   "cell_type": "code",
   "execution_count": 8,
   "metadata": {
    "scrolled": true
   },
   "outputs": [
    {
     "data": {
      "text/html": [
       "<div>\n",
       "<style scoped>\n",
       "    .dataframe tbody tr th:only-of-type {\n",
       "        vertical-align: middle;\n",
       "    }\n",
       "\n",
       "    .dataframe tbody tr th {\n",
       "        vertical-align: top;\n",
       "    }\n",
       "\n",
       "    .dataframe thead th {\n",
       "        text-align: right;\n",
       "    }\n",
       "</style>\n",
       "<table border=\"1\" class=\"dataframe\">\n",
       "  <thead>\n",
       "    <tr style=\"text-align: right;\">\n",
       "      <th></th>\n",
       "      <th>date</th>\n",
       "      <th>date_block_num</th>\n",
       "      <th>shop_id</th>\n",
       "      <th>item_id</th>\n",
       "      <th>item_price</th>\n",
       "      <th>item_cnt_day</th>\n",
       "      <th>monthly</th>\n",
       "      <th>weekday</th>\n",
       "      <th>daily</th>\n",
       "      <th>month</th>\n",
       "      <th>year</th>\n",
       "    </tr>\n",
       "  </thead>\n",
       "  <tbody>\n",
       "    <tr>\n",
       "      <th>49800</th>\n",
       "      <td>2013-01-01</td>\n",
       "      <td>0</td>\n",
       "      <td>18</td>\n",
       "      <td>5823</td>\n",
       "      <td>2500.00</td>\n",
       "      <td>1.00</td>\n",
       "      <td>1</td>\n",
       "      <td>1</td>\n",
       "      <td>1</td>\n",
       "      <td>2013-01</td>\n",
       "      <td>2013</td>\n",
       "    </tr>\n",
       "    <tr>\n",
       "      <th>29784</th>\n",
       "      <td>2013-01-01</td>\n",
       "      <td>0</td>\n",
       "      <td>27</td>\n",
       "      <td>5573</td>\n",
       "      <td>849.00</td>\n",
       "      <td>1.00</td>\n",
       "      <td>1</td>\n",
       "      <td>1</td>\n",
       "      <td>1</td>\n",
       "      <td>2013-01</td>\n",
       "      <td>2013</td>\n",
       "    </tr>\n",
       "    <tr>\n",
       "      <th>35476</th>\n",
       "      <td>2013-01-01</td>\n",
       "      <td>0</td>\n",
       "      <td>7</td>\n",
       "      <td>1006</td>\n",
       "      <td>399.00</td>\n",
       "      <td>1.00</td>\n",
       "      <td>1</td>\n",
       "      <td>1</td>\n",
       "      <td>1</td>\n",
       "      <td>2013-01</td>\n",
       "      <td>2013</td>\n",
       "    </tr>\n",
       "    <tr>\n",
       "      <th>8330</th>\n",
       "      <td>2013-01-01</td>\n",
       "      <td>0</td>\n",
       "      <td>19</td>\n",
       "      <td>17707</td>\n",
       "      <td>899.00</td>\n",
       "      <td>1.00</td>\n",
       "      <td>1</td>\n",
       "      <td>1</td>\n",
       "      <td>1</td>\n",
       "      <td>2013-01</td>\n",
       "      <td>2013</td>\n",
       "    </tr>\n",
       "    <tr>\n",
       "      <th>57384</th>\n",
       "      <td>2013-01-01</td>\n",
       "      <td>0</td>\n",
       "      <td>14</td>\n",
       "      <td>19548</td>\n",
       "      <td>149.00</td>\n",
       "      <td>1.00</td>\n",
       "      <td>1</td>\n",
       "      <td>1</td>\n",
       "      <td>1</td>\n",
       "      <td>2013-01</td>\n",
       "      <td>2013</td>\n",
       "    </tr>\n",
       "  </tbody>\n",
       "</table>\n",
       "</div>"
      ],
      "text/plain": [
       "            date  date_block_num  shop_id  item_id  item_price  item_cnt_day  \\\n",
       "49800 2013-01-01               0       18     5823     2500.00          1.00   \n",
       "29784 2013-01-01               0       27     5573      849.00          1.00   \n",
       "35476 2013-01-01               0        7     1006      399.00          1.00   \n",
       "8330  2013-01-01               0       19    17707      899.00          1.00   \n",
       "57384 2013-01-01               0       14    19548      149.00          1.00   \n",
       "\n",
       "       monthly  weekday  daily    month  year  \n",
       "49800        1        1      1  2013-01  2013  \n",
       "29784        1        1      1  2013-01  2013  \n",
       "35476        1        1      1  2013-01  2013  \n",
       "8330         1        1      1  2013-01  2013  \n",
       "57384        1        1      1  2013-01  2013  "
      ]
     },
     "execution_count": 8,
     "metadata": {},
     "output_type": "execute_result"
    }
   ],
   "source": [
    "df_sales.head()"
   ]
  },
  {
   "cell_type": "code",
   "execution_count": 9,
   "metadata": {
    "scrolled": false
   },
   "outputs": [
    {
     "data": {
      "text/html": [
       "<div>\n",
       "<style scoped>\n",
       "    .dataframe tbody tr th:only-of-type {\n",
       "        vertical-align: middle;\n",
       "    }\n",
       "\n",
       "    .dataframe tbody tr th {\n",
       "        vertical-align: top;\n",
       "    }\n",
       "\n",
       "    .dataframe thead th {\n",
       "        text-align: right;\n",
       "    }\n",
       "</style>\n",
       "<table border=\"1\" class=\"dataframe\">\n",
       "  <thead>\n",
       "    <tr style=\"text-align: right;\">\n",
       "      <th></th>\n",
       "      <th>item_category_name</th>\n",
       "      <th>item_category_id</th>\n",
       "    </tr>\n",
       "  </thead>\n",
       "  <tbody>\n",
       "    <tr>\n",
       "      <th>0</th>\n",
       "      <td>PC - Гарнитуры/Наушники</td>\n",
       "      <td>0</td>\n",
       "    </tr>\n",
       "    <tr>\n",
       "      <th>1</th>\n",
       "      <td>Аксессуары - PS2</td>\n",
       "      <td>1</td>\n",
       "    </tr>\n",
       "    <tr>\n",
       "      <th>2</th>\n",
       "      <td>Аксессуары - PS3</td>\n",
       "      <td>2</td>\n",
       "    </tr>\n",
       "    <tr>\n",
       "      <th>3</th>\n",
       "      <td>Аксессуары - PS4</td>\n",
       "      <td>3</td>\n",
       "    </tr>\n",
       "    <tr>\n",
       "      <th>4</th>\n",
       "      <td>Аксессуары - PSP</td>\n",
       "      <td>4</td>\n",
       "    </tr>\n",
       "  </tbody>\n",
       "</table>\n",
       "</div>"
      ],
      "text/plain": [
       "        item_category_name  item_category_id\n",
       "0  PC - Гарнитуры/Наушники                 0\n",
       "1         Аксессуары - PS2                 1\n",
       "2         Аксессуары - PS3                 2\n",
       "3         Аксессуары - PS4                 3\n",
       "4         Аксессуары - PSP                 4"
      ]
     },
     "execution_count": 9,
     "metadata": {},
     "output_type": "execute_result"
    }
   ],
   "source": [
    "df_categories.head()"
   ]
  },
  {
   "cell_type": "code",
   "execution_count": 10,
   "metadata": {
    "scrolled": true
   },
   "outputs": [
    {
     "data": {
      "text/html": [
       "<div>\n",
       "<style scoped>\n",
       "    .dataframe tbody tr th:only-of-type {\n",
       "        vertical-align: middle;\n",
       "    }\n",
       "\n",
       "    .dataframe tbody tr th {\n",
       "        vertical-align: top;\n",
       "    }\n",
       "\n",
       "    .dataframe thead th {\n",
       "        text-align: right;\n",
       "    }\n",
       "</style>\n",
       "<table border=\"1\" class=\"dataframe\">\n",
       "  <thead>\n",
       "    <tr style=\"text-align: right;\">\n",
       "      <th></th>\n",
       "      <th>item_name</th>\n",
       "      <th>item_id</th>\n",
       "      <th>item_category_id</th>\n",
       "    </tr>\n",
       "  </thead>\n",
       "  <tbody>\n",
       "    <tr>\n",
       "      <th>0</th>\n",
       "      <td>! ВО ВЛАСТИ НАВАЖДЕНИЯ (ПЛАСТ.)         D</td>\n",
       "      <td>0</td>\n",
       "      <td>40</td>\n",
       "    </tr>\n",
       "    <tr>\n",
       "      <th>1</th>\n",
       "      <td>!ABBYY FineReader 12 Professional Edition Full...</td>\n",
       "      <td>1</td>\n",
       "      <td>76</td>\n",
       "    </tr>\n",
       "    <tr>\n",
       "      <th>2</th>\n",
       "      <td>***В ЛУЧАХ СЛАВЫ   (UNV)                    D</td>\n",
       "      <td>2</td>\n",
       "      <td>40</td>\n",
       "    </tr>\n",
       "    <tr>\n",
       "      <th>3</th>\n",
       "      <td>***ГОЛУБАЯ ВОЛНА  (Univ)                      D</td>\n",
       "      <td>3</td>\n",
       "      <td>40</td>\n",
       "    </tr>\n",
       "    <tr>\n",
       "      <th>4</th>\n",
       "      <td>***КОРОБКА (СТЕКЛО)                       D</td>\n",
       "      <td>4</td>\n",
       "      <td>40</td>\n",
       "    </tr>\n",
       "  </tbody>\n",
       "</table>\n",
       "</div>"
      ],
      "text/plain": [
       "                                           item_name  item_id  \\\n",
       "0          ! ВО ВЛАСТИ НАВАЖДЕНИЯ (ПЛАСТ.)         D        0   \n",
       "1  !ABBYY FineReader 12 Professional Edition Full...        1   \n",
       "2      ***В ЛУЧАХ СЛАВЫ   (UNV)                    D        2   \n",
       "3    ***ГОЛУБАЯ ВОЛНА  (Univ)                      D        3   \n",
       "4        ***КОРОБКА (СТЕКЛО)                       D        4   \n",
       "\n",
       "   item_category_id  \n",
       "0                40  \n",
       "1                76  \n",
       "2                40  \n",
       "3                40  \n",
       "4                40  "
      ]
     },
     "execution_count": 10,
     "metadata": {},
     "output_type": "execute_result"
    }
   ],
   "source": [
    "df_items.head()"
   ]
  },
  {
   "cell_type": "code",
   "execution_count": 11,
   "metadata": {
    "scrolled": false
   },
   "outputs": [
    {
     "data": {
      "text/html": [
       "<div>\n",
       "<style scoped>\n",
       "    .dataframe tbody tr th:only-of-type {\n",
       "        vertical-align: middle;\n",
       "    }\n",
       "\n",
       "    .dataframe tbody tr th {\n",
       "        vertical-align: top;\n",
       "    }\n",
       "\n",
       "    .dataframe thead th {\n",
       "        text-align: right;\n",
       "    }\n",
       "</style>\n",
       "<table border=\"1\" class=\"dataframe\">\n",
       "  <thead>\n",
       "    <tr style=\"text-align: right;\">\n",
       "      <th></th>\n",
       "      <th>shop_name</th>\n",
       "      <th>shop_id</th>\n",
       "    </tr>\n",
       "  </thead>\n",
       "  <tbody>\n",
       "    <tr>\n",
       "      <th>0</th>\n",
       "      <td>!Якутск Орджоникидзе, 56 фран</td>\n",
       "      <td>0</td>\n",
       "    </tr>\n",
       "    <tr>\n",
       "      <th>1</th>\n",
       "      <td>!Якутск ТЦ \"Центральный\" фран</td>\n",
       "      <td>1</td>\n",
       "    </tr>\n",
       "    <tr>\n",
       "      <th>2</th>\n",
       "      <td>Адыгея ТЦ \"Мега\"</td>\n",
       "      <td>2</td>\n",
       "    </tr>\n",
       "    <tr>\n",
       "      <th>3</th>\n",
       "      <td>Балашиха ТРК \"Октябрь-Киномир\"</td>\n",
       "      <td>3</td>\n",
       "    </tr>\n",
       "    <tr>\n",
       "      <th>4</th>\n",
       "      <td>Волжский ТЦ \"Волга Молл\"</td>\n",
       "      <td>4</td>\n",
       "    </tr>\n",
       "  </tbody>\n",
       "</table>\n",
       "</div>"
      ],
      "text/plain": [
       "                        shop_name  shop_id\n",
       "0   !Якутск Орджоникидзе, 56 фран        0\n",
       "1   !Якутск ТЦ \"Центральный\" фран        1\n",
       "2                Адыгея ТЦ \"Мега\"        2\n",
       "3  Балашиха ТРК \"Октябрь-Киномир\"        3\n",
       "4        Волжский ТЦ \"Волга Молл\"        4"
      ]
     },
     "execution_count": 11,
     "metadata": {},
     "output_type": "execute_result"
    }
   ],
   "source": [
    "df_shops.head()"
   ]
  },
  {
   "cell_type": "code",
   "execution_count": 12,
   "metadata": {
    "scrolled": true
   },
   "outputs": [
    {
     "data": {
      "text/html": [
       "<div>\n",
       "<style scoped>\n",
       "    .dataframe tbody tr th:only-of-type {\n",
       "        vertical-align: middle;\n",
       "    }\n",
       "\n",
       "    .dataframe tbody tr th {\n",
       "        vertical-align: top;\n",
       "    }\n",
       "\n",
       "    .dataframe thead th {\n",
       "        text-align: right;\n",
       "    }\n",
       "</style>\n",
       "<table border=\"1\" class=\"dataframe\">\n",
       "  <thead>\n",
       "    <tr style=\"text-align: right;\">\n",
       "      <th></th>\n",
       "      <th>date_block_num</th>\n",
       "      <th>shop_id</th>\n",
       "      <th>item_id</th>\n",
       "      <th>item_price</th>\n",
       "      <th>item_cnt_day</th>\n",
       "      <th>monthly</th>\n",
       "      <th>weekday</th>\n",
       "      <th>daily</th>\n",
       "      <th>total_sales</th>\n",
       "    </tr>\n",
       "  </thead>\n",
       "  <tbody>\n",
       "    <tr>\n",
       "      <th>count</th>\n",
       "      <td>2935849.00</td>\n",
       "      <td>2935849.00</td>\n",
       "      <td>2935849.00</td>\n",
       "      <td>2935849.00</td>\n",
       "      <td>2935849.00</td>\n",
       "      <td>2935849.00</td>\n",
       "      <td>2935849.00</td>\n",
       "      <td>2935849.00</td>\n",
       "      <td>2935849.00</td>\n",
       "    </tr>\n",
       "    <tr>\n",
       "      <th>mean</th>\n",
       "      <td>14.57</td>\n",
       "      <td>33.00</td>\n",
       "      <td>10197.23</td>\n",
       "      <td>890.85</td>\n",
       "      <td>1.24</td>\n",
       "      <td>6.25</td>\n",
       "      <td>3.37</td>\n",
       "      <td>15.85</td>\n",
       "      <td>1157.73</td>\n",
       "    </tr>\n",
       "    <tr>\n",
       "      <th>std</th>\n",
       "      <td>9.42</td>\n",
       "      <td>16.23</td>\n",
       "      <td>6324.30</td>\n",
       "      <td>1729.80</td>\n",
       "      <td>2.62</td>\n",
       "      <td>3.54</td>\n",
       "      <td>2.00</td>\n",
       "      <td>8.92</td>\n",
       "      <td>5683.60</td>\n",
       "    </tr>\n",
       "    <tr>\n",
       "      <th>min</th>\n",
       "      <td>0.00</td>\n",
       "      <td>0.00</td>\n",
       "      <td>0.00</td>\n",
       "      <td>-1.00</td>\n",
       "      <td>-22.00</td>\n",
       "      <td>1.00</td>\n",
       "      <td>0.00</td>\n",
       "      <td>1.00</td>\n",
       "      <td>-68970.00</td>\n",
       "    </tr>\n",
       "    <tr>\n",
       "      <th>25%</th>\n",
       "      <td>7.00</td>\n",
       "      <td>22.00</td>\n",
       "      <td>4476.00</td>\n",
       "      <td>249.00</td>\n",
       "      <td>1.00</td>\n",
       "      <td>3.00</td>\n",
       "      <td>2.00</td>\n",
       "      <td>8.00</td>\n",
       "      <td>249.00</td>\n",
       "    </tr>\n",
       "    <tr>\n",
       "      <th>50%</th>\n",
       "      <td>14.00</td>\n",
       "      <td>31.00</td>\n",
       "      <td>9343.00</td>\n",
       "      <td>399.00</td>\n",
       "      <td>1.00</td>\n",
       "      <td>6.00</td>\n",
       "      <td>4.00</td>\n",
       "      <td>16.00</td>\n",
       "      <td>449.00</td>\n",
       "    </tr>\n",
       "    <tr>\n",
       "      <th>75%</th>\n",
       "      <td>23.00</td>\n",
       "      <td>47.00</td>\n",
       "      <td>15684.00</td>\n",
       "      <td>999.00</td>\n",
       "      <td>1.00</td>\n",
       "      <td>9.00</td>\n",
       "      <td>5.00</td>\n",
       "      <td>24.00</td>\n",
       "      <td>1078.20</td>\n",
       "    </tr>\n",
       "    <tr>\n",
       "      <th>max</th>\n",
       "      <td>33.00</td>\n",
       "      <td>59.00</td>\n",
       "      <td>22169.00</td>\n",
       "      <td>307980.00</td>\n",
       "      <td>2169.00</td>\n",
       "      <td>12.00</td>\n",
       "      <td>6.00</td>\n",
       "      <td>31.00</td>\n",
       "      <td>1829990.00</td>\n",
       "    </tr>\n",
       "  </tbody>\n",
       "</table>\n",
       "</div>"
      ],
      "text/plain": [
       "       date_block_num    shop_id    item_id  item_price  item_cnt_day  \\\n",
       "count      2935849.00 2935849.00 2935849.00  2935849.00    2935849.00   \n",
       "mean            14.57      33.00   10197.23      890.85          1.24   \n",
       "std              9.42      16.23    6324.30     1729.80          2.62   \n",
       "min              0.00       0.00       0.00       -1.00        -22.00   \n",
       "25%              7.00      22.00    4476.00      249.00          1.00   \n",
       "50%             14.00      31.00    9343.00      399.00          1.00   \n",
       "75%             23.00      47.00   15684.00      999.00          1.00   \n",
       "max             33.00      59.00   22169.00   307980.00       2169.00   \n",
       "\n",
       "         monthly    weekday      daily  total_sales  \n",
       "count 2935849.00 2935849.00 2935849.00   2935849.00  \n",
       "mean        6.25       3.37      15.85      1157.73  \n",
       "std         3.54       2.00       8.92      5683.60  \n",
       "min         1.00       0.00       1.00    -68970.00  \n",
       "25%         3.00       2.00       8.00       249.00  \n",
       "50%         6.00       4.00      16.00       449.00  \n",
       "75%         9.00       5.00      24.00      1078.20  \n",
       "max        12.00       6.00      31.00   1829990.00  "
      ]
     },
     "execution_count": 12,
     "metadata": {},
     "output_type": "execute_result"
    }
   ],
   "source": [
    "df_sales[\"total_sales\"] = df_sales.item_price * df_sales.item_cnt_day\n",
    "df_sales.describe()"
   ]
  },
  {
   "cell_type": "code",
   "execution_count": 13,
   "metadata": {},
   "outputs": [],
   "source": [
    "# 连接产品信息，分类信息，店铺信息表\n",
    "df_sales = pd.merge(df_sales, df_items, on=\"item_id\", how=\"inner\")\n",
    "df_sales = pd.merge(df_sales, df_categories, on=\"item_category_id\", how=\"inner\")\n",
    "df_sales = pd.merge(df_sales, df_shops, on=\"shop_id\", how=\"inner\")"
   ]
  },
  {
   "cell_type": "code",
   "execution_count": 14,
   "metadata": {
    "scrolled": false
   },
   "outputs": [
    {
     "data": {
      "text/html": [
       "<div>\n",
       "<style scoped>\n",
       "    .dataframe tbody tr th:only-of-type {\n",
       "        vertical-align: middle;\n",
       "    }\n",
       "\n",
       "    .dataframe tbody tr th {\n",
       "        vertical-align: top;\n",
       "    }\n",
       "\n",
       "    .dataframe thead th {\n",
       "        text-align: right;\n",
       "    }\n",
       "</style>\n",
       "<table border=\"1\" class=\"dataframe\">\n",
       "  <thead>\n",
       "    <tr style=\"text-align: right;\">\n",
       "      <th></th>\n",
       "      <th>date</th>\n",
       "      <th>date_block_num</th>\n",
       "      <th>shop_id</th>\n",
       "      <th>item_id</th>\n",
       "      <th>item_price</th>\n",
       "      <th>item_cnt_day</th>\n",
       "      <th>monthly</th>\n",
       "      <th>weekday</th>\n",
       "      <th>daily</th>\n",
       "      <th>month</th>\n",
       "      <th>year</th>\n",
       "      <th>total_sales</th>\n",
       "      <th>item_name</th>\n",
       "      <th>item_category_id</th>\n",
       "      <th>item_category_name</th>\n",
       "      <th>shop_name</th>\n",
       "    </tr>\n",
       "  </thead>\n",
       "  <tbody>\n",
       "    <tr>\n",
       "      <th>2935844</th>\n",
       "      <td>2015-10-22</td>\n",
       "      <td>33</td>\n",
       "      <td>55</td>\n",
       "      <td>13095</td>\n",
       "      <td>500.00</td>\n",
       "      <td>2.00</td>\n",
       "      <td>10</td>\n",
       "      <td>3</td>\n",
       "      <td>22</td>\n",
       "      <td>2015-10</td>\n",
       "      <td>2015</td>\n",
       "      <td>1000.00</td>\n",
       "      <td>Карта оплаты Windows: 500 рублей [Цифровая вер...</td>\n",
       "      <td>36</td>\n",
       "      <td>Карты оплаты - Windows (Цифра)</td>\n",
       "      <td>Цифровой склад 1С-Онлайн</td>\n",
       "    </tr>\n",
       "    <tr>\n",
       "      <th>2935845</th>\n",
       "      <td>2015-09-16</td>\n",
       "      <td>32</td>\n",
       "      <td>55</td>\n",
       "      <td>13094</td>\n",
       "      <td>2500.00</td>\n",
       "      <td>1.00</td>\n",
       "      <td>9</td>\n",
       "      <td>2</td>\n",
       "      <td>16</td>\n",
       "      <td>2015-09</td>\n",
       "      <td>2015</td>\n",
       "      <td>2500.00</td>\n",
       "      <td>Карта оплаты Windows: 2500 рублей [Цифровая ве...</td>\n",
       "      <td>36</td>\n",
       "      <td>Карты оплаты - Windows (Цифра)</td>\n",
       "      <td>Цифровой склад 1С-Онлайн</td>\n",
       "    </tr>\n",
       "    <tr>\n",
       "      <th>2935846</th>\n",
       "      <td>2015-09-22</td>\n",
       "      <td>32</td>\n",
       "      <td>55</td>\n",
       "      <td>13094</td>\n",
       "      <td>2500.00</td>\n",
       "      <td>2.00</td>\n",
       "      <td>9</td>\n",
       "      <td>1</td>\n",
       "      <td>22</td>\n",
       "      <td>2015-09</td>\n",
       "      <td>2015</td>\n",
       "      <td>5000.00</td>\n",
       "      <td>Карта оплаты Windows: 2500 рублей [Цифровая ве...</td>\n",
       "      <td>36</td>\n",
       "      <td>Карты оплаты - Windows (Цифра)</td>\n",
       "      <td>Цифровой склад 1С-Онлайн</td>\n",
       "    </tr>\n",
       "    <tr>\n",
       "      <th>2935847</th>\n",
       "      <td>2015-09-21</td>\n",
       "      <td>32</td>\n",
       "      <td>55</td>\n",
       "      <td>13091</td>\n",
       "      <td>1000.00</td>\n",
       "      <td>1.00</td>\n",
       "      <td>9</td>\n",
       "      <td>0</td>\n",
       "      <td>21</td>\n",
       "      <td>2015-09</td>\n",
       "      <td>2015</td>\n",
       "      <td>1000.00</td>\n",
       "      <td>Карта оплаты Windows: 1000 рублей [Цифровая ве...</td>\n",
       "      <td>36</td>\n",
       "      <td>Карты оплаты - Windows (Цифра)</td>\n",
       "      <td>Цифровой склад 1С-Онлайн</td>\n",
       "    </tr>\n",
       "    <tr>\n",
       "      <th>2935848</th>\n",
       "      <td>2015-10-26</td>\n",
       "      <td>33</td>\n",
       "      <td>55</td>\n",
       "      <td>13092</td>\n",
       "      <td>2000.00</td>\n",
       "      <td>1.00</td>\n",
       "      <td>10</td>\n",
       "      <td>0</td>\n",
       "      <td>26</td>\n",
       "      <td>2015-10</td>\n",
       "      <td>2015</td>\n",
       "      <td>2000.00</td>\n",
       "      <td>Карта оплаты Windows: 2000 рублей [Цифровая ве...</td>\n",
       "      <td>36</td>\n",
       "      <td>Карты оплаты - Windows (Цифра)</td>\n",
       "      <td>Цифровой склад 1С-Онлайн</td>\n",
       "    </tr>\n",
       "  </tbody>\n",
       "</table>\n",
       "</div>"
      ],
      "text/plain": [
       "              date  date_block_num  shop_id  item_id  item_price  \\\n",
       "2935844 2015-10-22              33       55    13095      500.00   \n",
       "2935845 2015-09-16              32       55    13094     2500.00   \n",
       "2935846 2015-09-22              32       55    13094     2500.00   \n",
       "2935847 2015-09-21              32       55    13091     1000.00   \n",
       "2935848 2015-10-26              33       55    13092     2000.00   \n",
       "\n",
       "         item_cnt_day  monthly  weekday  daily    month  year  total_sales  \\\n",
       "2935844          2.00       10        3     22  2015-10  2015      1000.00   \n",
       "2935845          1.00        9        2     16  2015-09  2015      2500.00   \n",
       "2935846          2.00        9        1     22  2015-09  2015      5000.00   \n",
       "2935847          1.00        9        0     21  2015-09  2015      1000.00   \n",
       "2935848          1.00       10        0     26  2015-10  2015      2000.00   \n",
       "\n",
       "                                                 item_name  item_category_id  \\\n",
       "2935844  Карта оплаты Windows: 500 рублей [Цифровая вер...                36   \n",
       "2935845  Карта оплаты Windows: 2500 рублей [Цифровая ве...                36   \n",
       "2935846  Карта оплаты Windows: 2500 рублей [Цифровая ве...                36   \n",
       "2935847  Карта оплаты Windows: 1000 рублей [Цифровая ве...                36   \n",
       "2935848  Карта оплаты Windows: 2000 рублей [Цифровая ве...                36   \n",
       "\n",
       "                     item_category_name                 shop_name  \n",
       "2935844  Карты оплаты - Windows (Цифра)  Цифровой склад 1С-Онлайн  \n",
       "2935845  Карты оплаты - Windows (Цифра)  Цифровой склад 1С-Онлайн  \n",
       "2935846  Карты оплаты - Windows (Цифра)  Цифровой склад 1С-Онлайн  \n",
       "2935847  Карты оплаты - Windows (Цифра)  Цифровой склад 1С-Онлайн  \n",
       "2935848  Карты оплаты - Windows (Цифра)  Цифровой склад 1С-Онлайн  "
      ]
     },
     "execution_count": 14,
     "metadata": {},
     "output_type": "execute_result"
    }
   ],
   "source": [
    "df_sales.tail()"
   ]
  },
  {
   "cell_type": "markdown",
   "metadata": {},
   "source": [
    "## 整体销售情况分析"
   ]
  },
  {
   "cell_type": "markdown",
   "metadata": {},
   "source": [
    "### 总销售额随时间规律"
   ]
  },
  {
   "cell_type": "code",
   "execution_count": 70,
   "metadata": {
    "scrolled": false
   },
   "outputs": [
    {
     "data": {
      "text/plain": [
       "<matplotlib.axes._subplots.AxesSubplot at 0x25db56f9470>"
      ]
     },
     "execution_count": 70,
     "metadata": {},
     "output_type": "execute_result"
    },
    {
     "data": {
      "image/png": "[encoded data removed]",
      "text/plain": [
       "<Figure size 1152x288 with 1 Axes>"
      ]
     },
     "metadata": {},
     "output_type": "display_data"
    }
   ],
   "source": [
    "df_sales.groupby(\"month\").total_sales.sum().plot(figsize=(16,4), title=\"2013-2015销售额变化（按月）\")"
   ]
  },
  {
   "cell_type": "markdown",
   "metadata": {},
   "source": [
    "2013-2015年内，总销售额均在下半年明显增长。"
   ]
  },
  {
   "cell_type": "code",
   "execution_count": 71,
   "metadata": {
    "scrolled": true
   },
   "outputs": [
    {
     "data": {
      "text/plain": [
       "<matplotlib.axes._subplots.AxesSubplot at 0x25daab0f438>"
      ]
     },
     "execution_count": 71,
     "metadata": {},
     "output_type": "execute_result"
    },
    {
     "data": {
      "image/png": "[encoded data removed]",
      "text/plain": [
       "<Figure size 1152x288 with 1 Axes>"
      ]
     },
     "metadata": {},
     "output_type": "display_data"
    }
   ],
   "source": [
    "df_sales[df_sales[\"date\"] < \"2015-01-01\"].groupby(\"monthly\").total_sales.sum().plot(figsize=(16,4), title=\"2013-2015 销售额（按月份）\")"
   ]
  },
  {
   "cell_type": "markdown",
   "metadata": {},
   "source": [
    "按月度统计，发现总销量在11月-12月期间，出现大幅上涨。猜测为感恩节、圣诞节活动促销所致。\n",
    "而4月-8月，销量低迷，销售额显著低于其他月份。"
   ]
  },
  {
   "cell_type": "code",
   "execution_count": 72,
   "metadata": {
    "scrolled": false
   },
   "outputs": [
    {
     "data": {
      "text/plain": [
       "<matplotlib.axes._subplots.AxesSubplot at 0x25da0e9e9e8>"
      ]
     },
     "execution_count": 72,
     "metadata": {},
     "output_type": "execute_result"
    },
    {
     "data": {
      "image/png": "[encoded data removed]",
      "text/plain": [
       "<Figure size 1152x288 with 1 Axes>"
      ]
     },
     "metadata": {},
     "output_type": "display_data"
    }
   ],
   "source": [
    "df_sales.groupby(\"weekday\").total_sales.sum().plot(figsize=(16,4), title=\"2013-2015 销售额（按星期）\")"
   ]
  },
  {
   "cell_type": "markdown",
   "metadata": {},
   "source": [
    "按星期统计，从周四开始，销售额开始增长，在周五达到顶峰。"
   ]
  },
  {
   "cell_type": "code",
   "execution_count": 73,
   "metadata": {
    "scrolled": false
   },
   "outputs": [
    {
     "data": {
      "text/plain": [
       "<matplotlib.axes._subplots.AxesSubplot at 0x25db5a8df28>"
      ]
     },
     "execution_count": 73,
     "metadata": {},
     "output_type": "execute_result"
    },
    {
     "data": {
      "image/png": "[encoded data removed]",
      "text/plain": [
       "<Figure size 576x432 with 2 Axes>"
      ]
     },
     "metadata": {},
     "output_type": "display_data"
    }
   ],
   "source": [
    "sales_hteamap_table = df_sales.groupby([\"monthly\",\"weekday\"]).total_sales.sum()\n",
    "sales_hteamap_table = sales_hteamap_table.rename_axis([\"month\", \"weekday\"]).unstack(\"weekday\")\n",
    "\n",
    "plt.figure(figsize=(8,6))\n",
    "sns.set(font_scale=1.5)\n",
    "sns.heatmap(sales_hteamap_table, cmap=\"YlGnBu\")"
   ]
  },
  {
   "cell_type": "markdown",
   "metadata": {},
   "source": [
    "按月份及星期，热力图显示，销量规律如上所述：\n",
    "- 每年中12月销量最高，周五周六销量最高\n",
    "- 11月中，周四销量最高，猜测为感恩节活动促销所致。4月、5月、9月的周一数据均有异常，原因未知。猜测为，学生放假？"
   ]
  },
  {
   "cell_type": "markdown",
   "metadata": {},
   "source": [
    "## 品类、商品、分销商总销售额概览"
   ]
  },
  {
   "cell_type": "markdown",
   "metadata": {},
   "source": [
    "### 分销商总销售额\n",
    "2013-2015年，**总销售额前5**的分销商中**莫斯科有3家**。  \n",
    "前5的分销商ID分别为：31，25，28，42，54  "
   ]
  },
  {
   "cell_type": "code",
   "execution_count": 221,
   "metadata": {
    "scrolled": false
   },
   "outputs": [
    {
     "data": {
      "text/plain": [
       "array([31, 25, 28, 42, 54, 27, 57, 12,  6, 18], dtype=int64)"
      ]
     },
     "metadata": {},
     "output_type": "display_data"
    },
    {
     "data": {
      "text/plain": [
       "<matplotlib.axes._subplots.AxesSubplot at 0x25db79f4198>"
      ]
     },
     "execution_count": 221,
     "metadata": {},
     "output_type": "execute_result"
    },
    {
     "data": {
      "image/png": "[encoded data removed]",
      "text/plain": [
       "<Figure size 1152x288 with 1 Axes>"
      ]
     },
     "metadata": {},
     "output_type": "display_data"
    }
   ],
   "source": [
    "grouped_shop_sales = df_sales.groupby(\"shop_id\").total_sales\n",
    "display(grouped_shop_sales.sum().sort_values(ascending=False)[:10].index.values)\n",
    "grouped_shop_sales.sum().sort_values(ascending=False).plot(kind=\"bar\", figsize=(16,4), title=\"分销商总销售额\")"
   ]
  },
  {
   "cell_type": "code",
   "execution_count": 215,
   "metadata": {
    "scrolled": true
   },
   "outputs": [
    {
     "data": {
      "text/plain": [
       "<matplotlib.axes._subplots.AxesSubplot at 0x25db7394630>"
      ]
     },
     "execution_count": 215,
     "metadata": {},
     "output_type": "execute_result"
    },
    {
     "data": {
      "image/png": "[encoded data removed]",
      "text/plain": [
       "<Figure size 432x288 with 1 Axes>"
      ]
     },
     "metadata": {},
     "output_type": "display_data"
    }
   ],
   "source": [
    "shop_sales_cunsum = grouped_shop_sales.sum().sort_values()\n",
    "shop_sales_cunsum = shop_sales_cunsum.reset_index().apply(lambda x: x.cumsum()/x.sum())\n",
    "shop_sales_cunsum.total_sales.plot()"
   ]
  },
  {
   "cell_type": "markdown",
   "metadata": {},
   "source": [
    "销售额排行，叠加累计求和曲线图，可以看出，排名前20的对销售额贡献最大，占总销售额的60%。"
   ]
  },
  {
   "cell_type": "markdown",
   "metadata": {},
   "source": [
    "### 品类总销售额\n",
    "2013-2015年，**总销售额前5的品类**分别为：\n",
    "- PS3游戏\n",
    "- PS4游戏\n",
    "- PS4游戏机 \n",
    "- XBOX360游戏\n",
    "- PC游戏"
   ]
  },
  {
   "cell_type": "code",
   "execution_count": 78,
   "metadata": {
    "scrolled": false
   },
   "outputs": [
    {
     "data": {
      "text/plain": [
       "item_category_id\n",
       "19   412050280.90\n",
       "20   373010312.01\n",
       "12   292239761.98\n",
       "23   259619128.35\n",
       "30   257519291.08\n",
       "Name: total_sales, dtype: float64"
      ]
     },
     "metadata": {},
     "output_type": "display_data"
    },
    {
     "data": {
      "text/plain": [
       "<matplotlib.axes._subplots.AxesSubplot at 0x25db5c2cb38>"
      ]
     },
     "execution_count": 78,
     "metadata": {},
     "output_type": "execute_result"
    },
    {
     "data": {
      "image/png": "[encoded data removed]",
      "text/plain": [
       "<Figure size 1152x288 with 1 Axes>"
      ]
     },
     "metadata": {},
     "output_type": "display_data"
    }
   ],
   "source": [
    "grouped_cat_sales = df_sales.groupby(\"item_category_id\").total_sales\n",
    "display(grouped_cat_sales.sum().sort_values(ascending=False)[:5])\n",
    "grouped_cat_sales.sum().sort_values(ascending=False)[:20].plot(kind=\"bar\", figsize=(16,4), title=\"品类总销售额前20\")"
   ]
  },
  {
   "cell_type": "code",
   "execution_count": 236,
   "metadata": {},
   "outputs": [
    {
     "data": {
      "text/plain": [
       "<matplotlib.axes._subplots.AxesSubplot at 0x25dbbfbaef0>"
      ]
     },
     "execution_count": 236,
     "metadata": {},
     "output_type": "execute_result"
    },
    {
     "data": {
      "image/png": "[encoded data removed]",
      "text/plain": [
       "<Figure size 432x288 with 1 Axes>"
      ]
     },
     "metadata": {},
     "output_type": "display_data"
    }
   ],
   "source": [
    "cat_sales_cunsum = grouped_cat_sales.sum().sort_values()\n",
    "cat_sales_cunsum = cat_sales_cunsum.reset_index().apply(lambda x: x.cumsum()/x.sum())\n",
    "cat_sales_cunsum.total_sales.plot()"
   ]
  },
  {
   "cell_type": "markdown",
   "metadata": {},
   "source": [
    "### 商品总销售额\n",
    "2013-2015年，**总销售额前5的产品**分别为：\n",
    "- PS4游戏机\n",
    "- GTA5（PS3）\n",
    "- PS4游戏机+GTA5套件\n",
    "- GTA5（XBOX360）\n",
    "- GTA5（PS4）"
   ]
  },
  {
   "cell_type": "code",
   "execution_count": 79,
   "metadata": {
    "scrolled": false
   },
   "outputs": [
    {
     "data": {
      "text/plain": [
       "item_id\n",
       "6675    219391488.92\n",
       "3732     43617975.48\n",
       "13443    34331245.28\n",
       "3734     31065160.27\n",
       "3733     22298864.36\n",
       "Name: total_sales, dtype: float64"
      ]
     },
     "metadata": {},
     "output_type": "display_data"
    },
    {
     "data": {
      "text/plain": [
       "<matplotlib.axes._subplots.AxesSubplot at 0x25db5d48b38>"
      ]
     },
     "execution_count": 79,
     "metadata": {},
     "output_type": "execute_result"
    },
    {
     "data": {
      "image/png": "[encoded data removed]",
      "text/plain": [
       "<Figure size 1152x288 with 1 Axes>"
      ]
     },
     "metadata": {},
     "output_type": "display_data"
    }
   ],
   "source": [
    "grouped_item_sales = df_sales.groupby(\"item_id\").total_sales\n",
    "display(grouped_item_sales.sum().sort_values(ascending=False)[:5])\n",
    "grouped_item_sales.sum().sort_values(ascending=False)[:20].plot(kind=\"bar\", figsize=(16,4), title=\"产品总销售额前20\")"
   ]
  },
  {
   "cell_type": "markdown",
   "metadata": {},
   "source": [
    "## 分销商、产品价值分析（RFM模型）"
   ]
  },
  {
   "cell_type": "markdown",
   "metadata": {},
   "source": [
    "### 分销商年度销售额"
   ]
  },
  {
   "cell_type": "code",
   "execution_count": 183,
   "metadata": {},
   "outputs": [],
   "source": [
    "year_sale_shop = df_sales.groupby([\"shop_id\", \"year\"]).sum().total_sales.unstack()"
   ]
  },
  {
   "cell_type": "code",
   "execution_count": 186,
   "metadata": {
    "scrolled": false
   },
   "outputs": [
    {
     "data": {
      "text/plain": [
       "<matplotlib.axes._subplots.AxesSubplot at 0x25da395d048>"
      ]
     },
     "execution_count": 186,
     "metadata": {},
     "output_type": "execute_result"
    },
    {
     "data": {
      "image/png": "[encoded data removed]",
      "text/plain": [
       "<Figure size 1296x432 with 1 Axes>"
      ]
     },
     "metadata": {},
     "output_type": "display_data"
    }
   ],
   "source": [
    "year_sale_shop.plot.bar(figsize=(18,6))"
   ]
  },
  {
   "cell_type": "markdown",
   "metadata": {},
   "source": [
    "\n",
    "2015年销售额均低于2014年，原因是数据截止至2015年10月，缺失了销售额最高的11月和12月。  "
   ]
  },
  {
   "cell_type": "code",
   "execution_count": 124,
   "metadata": {},
   "outputs": [
    {
     "data": {
      "text/plain": [
       "Int64Index([ 0,  1,  2,  3,  4,  5,  6,  7,  8,  9, 10, 11, 12, 13, 14, 15, 16,\n",
       "            17, 18, 19, 20, 21, 22, 23, 24, 25, 26, 27, 28, 29, 30, 31, 32, 33,\n",
       "            34, 35, 36, 37, 38, 39, 40, 41, 42, 43, 44, 45, 46, 47, 48, 49, 50,\n",
       "            51, 52, 53, 54, 55, 56, 57, 58, 59],\n",
       "           dtype='int64', name='shop_id')"
      ]
     },
     "metadata": {},
     "output_type": "display_data"
    }
   ],
   "source": [
    "top_shop_id = df_sales.groupby(\"shop_id\").total_sales.sum().sort_values(ascending=False).index.sort_values()\n",
    "display(top_shop_id)\n",
    "top_shop_year = df_sales[df_sales.shop_id.isin(top_shop_id)].groupby([\"year\", \"shop_id\"]).total_sales.sum()\n",
    "top_shop_year = pd.DataFrame(top_shop_year)"
   ]
  },
  {
   "cell_type": "code",
   "execution_count": 125,
   "metadata": {
    "scrolled": true
   },
   "outputs": [],
   "source": [
    "for i in top_shop_id:\n",
    "    top_shop_year.loc[(slice(None),i),\"rise_rate\"]= (top_shop_year.loc[(slice(None),i),:][\"total_sales\"] / top_shop_year.loc[(slice(None),i),:][\"total_sales\"] .shift() - 1).values\n",
    "rise_rate_2014 = top_shop_year.loc[(\"2014\",slice(None)),:].sort_values(\"rise_rate\",ascending=False)\n",
    "rise_rate_2014.reset_index(inplace=True)\n",
    "rise_rate_2014.dropna(inplace=True)"
   ]
  },
  {
   "cell_type": "code",
   "execution_count": 175,
   "metadata": {
    "scrolled": true
   },
   "outputs": [
    {
     "data": {
      "text/plain": [
       "year           33\n",
       "shop_id        33\n",
       "total_sales    33\n",
       "rise_rate      33\n",
       "dtype: int64"
      ]
     },
     "metadata": {},
     "output_type": "display_data"
    },
    {
     "data": {
      "text/plain": [
       "year           14\n",
       "shop_id        14\n",
       "total_sales    14\n",
       "rise_rate      14\n",
       "dtype: int64"
      ]
     },
     "metadata": {},
     "output_type": "display_data"
    }
   ],
   "source": [
    "display(rise_rate_2014[rise_rate_2014.rise_rate>0].count())\n",
    "display(rise_rate_2014[rise_rate_2014.rise_rate<0].count())"
   ]
  },
  {
   "cell_type": "markdown",
   "metadata": {},
   "source": [
    "2014年有14家增长率为负，占比30%，33家为正，占比70%。增长"
   ]
  },
  {
   "cell_type": "code",
   "execution_count": 241,
   "metadata": {},
   "outputs": [
    {
     "data": {
      "text/html": [
       "<div>\n",
       "<style scoped>\n",
       "    .dataframe tbody tr th:only-of-type {\n",
       "        vertical-align: middle;\n",
       "    }\n",
       "\n",
       "    .dataframe tbody tr th {\n",
       "        vertical-align: top;\n",
       "    }\n",
       "\n",
       "    .dataframe thead th {\n",
       "        text-align: right;\n",
       "    }\n",
       "</style>\n",
       "<table border=\"1\" class=\"dataframe\">\n",
       "  <thead>\n",
       "    <tr style=\"text-align: right;\">\n",
       "      <th></th>\n",
       "      <th>year</th>\n",
       "      <th>shop_id</th>\n",
       "      <th>total_sales</th>\n",
       "      <th>rise_rate</th>\n",
       "    </tr>\n",
       "  </thead>\n",
       "  <tbody>\n",
       "    <tr>\n",
       "      <th>2</th>\n",
       "      <td>2014</td>\n",
       "      <td>17</td>\n",
       "      <td>17246666.30</td>\n",
       "      <td>0.79</td>\n",
       "    </tr>\n",
       "    <tr>\n",
       "      <th>3</th>\n",
       "      <td>2014</td>\n",
       "      <td>47</td>\n",
       "      <td>31591739.43</td>\n",
       "      <td>0.60</td>\n",
       "    </tr>\n",
       "    <tr>\n",
       "      <th>4</th>\n",
       "      <td>2014</td>\n",
       "      <td>5</td>\n",
       "      <td>16794175.02</td>\n",
       "      <td>0.55</td>\n",
       "    </tr>\n",
       "    <tr>\n",
       "      <th>5</th>\n",
       "      <td>2014</td>\n",
       "      <td>2</td>\n",
       "      <td>19039238.50</td>\n",
       "      <td>0.45</td>\n",
       "    </tr>\n",
       "    <tr>\n",
       "      <th>6</th>\n",
       "      <td>2014</td>\n",
       "      <td>3</td>\n",
       "      <td>12443865.00</td>\n",
       "      <td>0.44</td>\n",
       "    </tr>\n",
       "    <tr>\n",
       "      <th>7</th>\n",
       "      <td>2014</td>\n",
       "      <td>21</td>\n",
       "      <td>24466968.20</td>\n",
       "      <td>0.37</td>\n",
       "    </tr>\n",
       "    <tr>\n",
       "      <th>8</th>\n",
       "      <td>2014</td>\n",
       "      <td>27</td>\n",
       "      <td>63231354.80</td>\n",
       "      <td>0.34</td>\n",
       "    </tr>\n",
       "    <tr>\n",
       "      <th>9</th>\n",
       "      <td>2014</td>\n",
       "      <td>58</td>\n",
       "      <td>28933488.00</td>\n",
       "      <td>0.33</td>\n",
       "    </tr>\n",
       "    <tr>\n",
       "      <th>10</th>\n",
       "      <td>2014</td>\n",
       "      <td>12</td>\n",
       "      <td>42948167.52</td>\n",
       "      <td>0.33</td>\n",
       "    </tr>\n",
       "  </tbody>\n",
       "</table>\n",
       "</div>"
      ],
      "text/plain": [
       "    year  shop_id  total_sales  rise_rate\n",
       "2   2014       17  17246666.30       0.79\n",
       "3   2014       47  31591739.43       0.60\n",
       "4   2014        5  16794175.02       0.55\n",
       "5   2014        2  19039238.50       0.45\n",
       "6   2014        3  12443865.00       0.44\n",
       "7   2014       21  24466968.20       0.37\n",
       "8   2014       27  63231354.80       0.34\n",
       "9   2014       58  28933488.00       0.33\n",
       "10  2014       12  42948167.52       0.33"
      ]
     },
     "execution_count": 241,
     "metadata": {},
     "output_type": "execute_result"
    }
   ],
   "source": [
    "rise_rate_2014.loc[2:10]"
   ]
  },
  {
   "cell_type": "code",
   "execution_count": 250,
   "metadata": {
    "scrolled": true
   },
   "outputs": [
    {
     "data": {
      "text/html": [
       "<div>\n",
       "<style scoped>\n",
       "    .dataframe tbody tr th:only-of-type {\n",
       "        vertical-align: middle;\n",
       "    }\n",
       "\n",
       "    .dataframe tbody tr th {\n",
       "        vertical-align: top;\n",
       "    }\n",
       "\n",
       "    .dataframe thead th {\n",
       "        text-align: right;\n",
       "    }\n",
       "</style>\n",
       "<table border=\"1\" class=\"dataframe\">\n",
       "  <thead>\n",
       "    <tr style=\"text-align: right;\">\n",
       "      <th></th>\n",
       "      <th>year</th>\n",
       "      <th>shop_id</th>\n",
       "      <th>total_sales</th>\n",
       "      <th>rise_rate</th>\n",
       "    </tr>\n",
       "  </thead>\n",
       "  <tbody>\n",
       "    <tr>\n",
       "      <th>33</th>\n",
       "      <td>2014</td>\n",
       "      <td>4</td>\n",
       "      <td>15845497.37</td>\n",
       "      <td>-0.00</td>\n",
       "    </tr>\n",
       "    <tr>\n",
       "      <th>34</th>\n",
       "      <td>2014</td>\n",
       "      <td>16</td>\n",
       "      <td>21441216.30</td>\n",
       "      <td>-0.02</td>\n",
       "    </tr>\n",
       "    <tr>\n",
       "      <th>35</th>\n",
       "      <td>2014</td>\n",
       "      <td>54</td>\n",
       "      <td>62977330.58</td>\n",
       "      <td>-0.02</td>\n",
       "    </tr>\n",
       "    <tr>\n",
       "      <th>36</th>\n",
       "      <td>2014</td>\n",
       "      <td>26</td>\n",
       "      <td>24922186.70</td>\n",
       "      <td>-0.02</td>\n",
       "    </tr>\n",
       "    <tr>\n",
       "      <th>37</th>\n",
       "      <td>2014</td>\n",
       "      <td>56</td>\n",
       "      <td>22175528.80</td>\n",
       "      <td>-0.02</td>\n",
       "    </tr>\n",
       "    <tr>\n",
       "      <th>38</th>\n",
       "      <td>2014</td>\n",
       "      <td>45</td>\n",
       "      <td>15807405.00</td>\n",
       "      <td>-0.05</td>\n",
       "    </tr>\n",
       "    <tr>\n",
       "      <th>39</th>\n",
       "      <td>2014</td>\n",
       "      <td>30</td>\n",
       "      <td>21279845.50</td>\n",
       "      <td>-0.07</td>\n",
       "    </tr>\n",
       "    <tr>\n",
       "      <th>40</th>\n",
       "      <td>2014</td>\n",
       "      <td>29</td>\n",
       "      <td>23491290.50</td>\n",
       "      <td>-0.08</td>\n",
       "    </tr>\n",
       "    <tr>\n",
       "      <th>41</th>\n",
       "      <td>2014</td>\n",
       "      <td>22</td>\n",
       "      <td>21785407.79</td>\n",
       "      <td>-0.08</td>\n",
       "    </tr>\n",
       "    <tr>\n",
       "      <th>42</th>\n",
       "      <td>2014</td>\n",
       "      <td>51</td>\n",
       "      <td>9688030.90</td>\n",
       "      <td>-0.10</td>\n",
       "    </tr>\n",
       "    <tr>\n",
       "      <th>43</th>\n",
       "      <td>2014</td>\n",
       "      <td>41</td>\n",
       "      <td>16155910.02</td>\n",
       "      <td>-0.22</td>\n",
       "    </tr>\n",
       "    <tr>\n",
       "      <th>44</th>\n",
       "      <td>2014</td>\n",
       "      <td>18</td>\n",
       "      <td>27647533.00</td>\n",
       "      <td>-0.27</td>\n",
       "    </tr>\n",
       "    <tr>\n",
       "      <th>45</th>\n",
       "      <td>2014</td>\n",
       "      <td>50</td>\n",
       "      <td>26175429.50</td>\n",
       "      <td>-0.32</td>\n",
       "    </tr>\n",
       "    <tr>\n",
       "      <th>46</th>\n",
       "      <td>2014</td>\n",
       "      <td>13</td>\n",
       "      <td>2128062.18</td>\n",
       "      <td>-0.45</td>\n",
       "    </tr>\n",
       "  </tbody>\n",
       "</table>\n",
       "</div>"
      ],
      "text/plain": [
       "    year  shop_id  total_sales  rise_rate\n",
       "33  2014        4  15845497.37      -0.00\n",
       "34  2014       16  21441216.30      -0.02\n",
       "35  2014       54  62977330.58      -0.02\n",
       "36  2014       26  24922186.70      -0.02\n",
       "37  2014       56  22175528.80      -0.02\n",
       "38  2014       45  15807405.00      -0.05\n",
       "39  2014       30  21279845.50      -0.07\n",
       "40  2014       29  23491290.50      -0.08\n",
       "41  2014       22  21785407.79      -0.08\n",
       "42  2014       51   9688030.90      -0.10\n",
       "43  2014       41  16155910.02      -0.22\n",
       "44  2014       18  27647533.00      -0.27\n",
       "45  2014       50  26175429.50      -0.32\n",
       "46  2014       13   2128062.18      -0.45"
      ]
     },
     "execution_count": 250,
     "metadata": {},
     "output_type": "execute_result"
    }
   ],
   "source": [
    "rise_rate_2014.tail(14)"
   ]
  },
  {
   "cell_type": "code",
   "execution_count": 190,
   "metadata": {
    "scrolled": false
   },
   "outputs": [
    {
     "data": {
      "text/plain": [
       "Text(0.5,1,'增长率2-10')"
      ]
     },
     "execution_count": 190,
     "metadata": {},
     "output_type": "execute_result"
    },
    {
     "data": {
      "image/png": "[encoded data removed]",
      "text/plain": [
       "<Figure size 432x288 with 1 Axes>"
      ]
     },
     "metadata": {},
     "output_type": "display_data"
    },
    {
     "data": {
      "image/png": "[encoded data removed]",
      "text/plain": [
       "<Figure size 432x288 with 1 Axes>"
      ]
     },
     "metadata": {},
     "output_type": "display_data"
    }
   ],
   "source": [
    "plt.figure()\n",
    "plt.barh(range(10),rise_rate_2014.head(10).rise_rate)\n",
    "plt.yticks(range(10), rise_rate_2014.head(10).shop_id)\n",
    "plt.xlabel(\"增长率\")\n",
    "plt.ylabel(\"分销商ID\")\n",
    "plt.title(\"增长率前10\")\n",
    "plt.figure()\n",
    "plt.barh(range(8),rise_rate_2014.loc[2:9].rise_rate)\n",
    "plt.yticks(range(8),rise_rate_2014.loc[2:9].shop_id)\n",
    "plt.xlabel(\"增长率\")\n",
    "plt.ylabel(\"分销商ID\")\n",
    "plt.title(\"增长率2-10\")"
   ]
  },
  {
   "cell_type": "markdown",
   "metadata": {},
   "source": [
    "增长率最高的10家分销商中，ID为55、49的数据异常，原因为这两家2013年数据不全。  \n",
    "剔除后，前8家增长率均在30%以上，其中ID为5、47、17的分销商表现尤其突出，均在50%以上。"
   ]
  },
  {
   "cell_type": "markdown",
   "metadata": {},
   "source": [
    "### 分销商分级\n",
    "按最近销售日期距今天数、销售频次、销售总额划分，以各项平均值为划分基准，分为：\n",
    "- 重要保持分销商\n",
    "- 重要价值分销商\n",
    "- 重要发展分销商\n",
    "- 重要挽留分销商\n",
    "- 一般保持分销商\n",
    "- 一般价值分销商\n",
    "- 一般发展分销商\n",
    "- 一般挽留分销商"
   ]
  },
  {
   "cell_type": "code",
   "execution_count": 192,
   "metadata": {
    "scrolled": true
   },
   "outputs": [
    {
     "data": {
      "text/html": [
       "<div>\n",
       "<style scoped>\n",
       "    .dataframe tbody tr th:only-of-type {\n",
       "        vertical-align: middle;\n",
       "    }\n",
       "\n",
       "    .dataframe tbody tr th {\n",
       "        vertical-align: top;\n",
       "    }\n",
       "\n",
       "    .dataframe thead th {\n",
       "        text-align: right;\n",
       "    }\n",
       "</style>\n",
       "<table border=\"1\" class=\"dataframe\">\n",
       "  <thead>\n",
       "    <tr style=\"text-align: right;\">\n",
       "      <th></th>\n",
       "      <th>date</th>\n",
       "      <th>month</th>\n",
       "      <th>total_sales</th>\n",
       "    </tr>\n",
       "    <tr>\n",
       "      <th>shop_id</th>\n",
       "      <th></th>\n",
       "      <th></th>\n",
       "      <th></th>\n",
       "    </tr>\n",
       "  </thead>\n",
       "  <tbody>\n",
       "    <tr>\n",
       "      <th>0</th>\n",
       "      <td>2013-02-28</td>\n",
       "      <td>9857</td>\n",
       "      <td>6637370.00</td>\n",
       "    </tr>\n",
       "    <tr>\n",
       "      <th>1</th>\n",
       "      <td>2013-02-28</td>\n",
       "      <td>5678</td>\n",
       "      <td>3238207.00</td>\n",
       "    </tr>\n",
       "    <tr>\n",
       "      <th>2</th>\n",
       "      <td>2015-10-31</td>\n",
       "      <td>25991</td>\n",
       "      <td>44049638.80</td>\n",
       "    </tr>\n",
       "    <tr>\n",
       "      <th>3</th>\n",
       "      <td>2015-10-31</td>\n",
       "      <td>25532</td>\n",
       "      <td>30140853.87</td>\n",
       "    </tr>\n",
       "    <tr>\n",
       "      <th>4</th>\n",
       "      <td>2015-10-31</td>\n",
       "      <td>38242</td>\n",
       "      <td>40539650.32</td>\n",
       "    </tr>\n",
       "  </tbody>\n",
       "</table>\n",
       "</div>"
      ],
      "text/plain": [
       "              date  month  total_sales\n",
       "shop_id                               \n",
       "0       2013-02-28   9857   6637370.00\n",
       "1       2013-02-28   5678   3238207.00\n",
       "2       2015-10-31  25991  44049638.80\n",
       "3       2015-10-31  25532  30140853.87\n",
       "4       2015-10-31  38242  40539650.32"
      ]
     },
     "execution_count": 192,
     "metadata": {},
     "output_type": "execute_result"
    }
   ],
   "source": [
    "rfm = df_sales.pivot_table(index=\"shop_id\", \n",
    "                     values=[\"date\", \"month\", \"total_sales\"],\n",
    "                     aggfunc={\"date\":\"max\", \"month\":\"count\", \"total_sales\":\"sum\"})\n",
    "rfm.head()"
   ]
  },
  {
   "cell_type": "code",
   "execution_count": 193,
   "metadata": {
    "scrolled": true
   },
   "outputs": [
    {
     "data": {
      "text/html": [
       "<div>\n",
       "<style scoped>\n",
       "    .dataframe tbody tr th:only-of-type {\n",
       "        vertical-align: middle;\n",
       "    }\n",
       "\n",
       "    .dataframe tbody tr th {\n",
       "        vertical-align: top;\n",
       "    }\n",
       "\n",
       "    .dataframe thead th {\n",
       "        text-align: right;\n",
       "    }\n",
       "</style>\n",
       "<table border=\"1\" class=\"dataframe\">\n",
       "  <thead>\n",
       "    <tr style=\"text-align: right;\">\n",
       "      <th></th>\n",
       "      <th>date</th>\n",
       "      <th>F</th>\n",
       "      <th>M</th>\n",
       "      <th>R</th>\n",
       "    </tr>\n",
       "    <tr>\n",
       "      <th>shop_id</th>\n",
       "      <th></th>\n",
       "      <th></th>\n",
       "      <th></th>\n",
       "      <th></th>\n",
       "    </tr>\n",
       "  </thead>\n",
       "  <tbody>\n",
       "    <tr>\n",
       "      <th>0</th>\n",
       "      <td>2013-02-28</td>\n",
       "      <td>9857</td>\n",
       "      <td>6637370.00</td>\n",
       "      <td>975.00</td>\n",
       "    </tr>\n",
       "    <tr>\n",
       "      <th>1</th>\n",
       "      <td>2013-02-28</td>\n",
       "      <td>5678</td>\n",
       "      <td>3238207.00</td>\n",
       "      <td>975.00</td>\n",
       "    </tr>\n",
       "    <tr>\n",
       "      <th>2</th>\n",
       "      <td>2015-10-31</td>\n",
       "      <td>25991</td>\n",
       "      <td>44049638.80</td>\n",
       "      <td>0.00</td>\n",
       "    </tr>\n",
       "    <tr>\n",
       "      <th>3</th>\n",
       "      <td>2015-10-31</td>\n",
       "      <td>25532</td>\n",
       "      <td>30140853.87</td>\n",
       "      <td>0.00</td>\n",
       "    </tr>\n",
       "    <tr>\n",
       "      <th>4</th>\n",
       "      <td>2015-10-31</td>\n",
       "      <td>38242</td>\n",
       "      <td>40539650.32</td>\n",
       "      <td>0.00</td>\n",
       "    </tr>\n",
       "  </tbody>\n",
       "</table>\n",
       "</div>"
      ],
      "text/plain": [
       "              date      F           M      R\n",
       "shop_id                                     \n",
       "0       2013-02-28   9857  6637370.00 975.00\n",
       "1       2013-02-28   5678  3238207.00 975.00\n",
       "2       2015-10-31  25991 44049638.80   0.00\n",
       "3       2015-10-31  25532 30140853.87   0.00\n",
       "4       2015-10-31  38242 40539650.32   0.00"
      ]
     },
     "execution_count": 193,
     "metadata": {},
     "output_type": "execute_result"
    }
   ],
   "source": [
    "rfm[\"R\"] = -(rfm.date - rfm.date.max())/np.timedelta64(1,\"D\")\n",
    "rfm.rename(columns={\"month\":\"F\", \"total_sales\":\"M\"}, inplace=True)\n",
    "rfm.head()"
   ]
  },
  {
   "cell_type": "code",
   "execution_count": 199,
   "metadata": {},
   "outputs": [],
   "source": [
    "def rfm_level(x):\n",
    "    level = x.apply(lambda x:\"1\" if x >= 0 else \"0\")\n",
    "    label = level.R + level.F + level.M\n",
    "    d = {\n",
    "        '011':'重要价值分销商',\n",
    "        '111':'重要保持分销商',        \n",
    "        '101':'重要发展分销商',\n",
    "        '001':'重要挽留分销商',\n",
    "        '010':'一般价值分销商',\n",
    "        '110':'一般保持分销商',        \n",
    "        '100':'一般发展分销商',\n",
    "        '000':'一般挽留分销商'\n",
    "    }\n",
    "    result = d[label]\n",
    "    return result"
   ]
  },
  {
   "cell_type": "code",
   "execution_count": 200,
   "metadata": {
    "scrolled": false
   },
   "outputs": [
    {
     "data": {
      "text/html": [
       "<div>\n",
       "<style scoped>\n",
       "    .dataframe tbody tr th:only-of-type {\n",
       "        vertical-align: middle;\n",
       "    }\n",
       "\n",
       "    .dataframe tbody tr th {\n",
       "        vertical-align: top;\n",
       "    }\n",
       "\n",
       "    .dataframe thead th {\n",
       "        text-align: right;\n",
       "    }\n",
       "</style>\n",
       "<table border=\"1\" class=\"dataframe\">\n",
       "  <thead>\n",
       "    <tr style=\"text-align: right;\">\n",
       "      <th></th>\n",
       "      <th>date</th>\n",
       "      <th>F</th>\n",
       "      <th>M</th>\n",
       "      <th>R</th>\n",
       "      <th>label</th>\n",
       "    </tr>\n",
       "    <tr>\n",
       "      <th>shop_id</th>\n",
       "      <th></th>\n",
       "      <th></th>\n",
       "      <th></th>\n",
       "      <th></th>\n",
       "      <th></th>\n",
       "    </tr>\n",
       "  </thead>\n",
       "  <tbody>\n",
       "    <tr>\n",
       "      <th>0</th>\n",
       "      <td>2013-02-28</td>\n",
       "      <td>9857</td>\n",
       "      <td>6637370.00</td>\n",
       "      <td>975.00</td>\n",
       "      <td>一般发展分销商</td>\n",
       "    </tr>\n",
       "    <tr>\n",
       "      <th>1</th>\n",
       "      <td>2013-02-28</td>\n",
       "      <td>5678</td>\n",
       "      <td>3238207.00</td>\n",
       "      <td>975.00</td>\n",
       "      <td>一般发展分销商</td>\n",
       "    </tr>\n",
       "    <tr>\n",
       "      <th>2</th>\n",
       "      <td>2015-10-31</td>\n",
       "      <td>25991</td>\n",
       "      <td>44049638.80</td>\n",
       "      <td>0.00</td>\n",
       "      <td>一般挽留分销商</td>\n",
       "    </tr>\n",
       "    <tr>\n",
       "      <th>3</th>\n",
       "      <td>2015-10-31</td>\n",
       "      <td>25532</td>\n",
       "      <td>30140853.87</td>\n",
       "      <td>0.00</td>\n",
       "      <td>一般挽留分销商</td>\n",
       "    </tr>\n",
       "    <tr>\n",
       "      <th>4</th>\n",
       "      <td>2015-10-31</td>\n",
       "      <td>38242</td>\n",
       "      <td>40539650.32</td>\n",
       "      <td>0.00</td>\n",
       "      <td>一般挽留分销商</td>\n",
       "    </tr>\n",
       "  </tbody>\n",
       "</table>\n",
       "</div>"
      ],
      "text/plain": [
       "              date      F           M      R    label\n",
       "shop_id                                              \n",
       "0       2013-02-28   9857  6637370.00 975.00  一般发展分销商\n",
       "1       2013-02-28   5678  3238207.00 975.00  一般发展分销商\n",
       "2       2015-10-31  25991 44049638.80   0.00  一般挽留分销商\n",
       "3       2015-10-31  25532 30140853.87   0.00  一般挽留分销商\n",
       "4       2015-10-31  38242 40539650.32   0.00  一般挽留分销商"
      ]
     },
     "execution_count": 200,
     "metadata": {},
     "output_type": "execute_result"
    }
   ],
   "source": [
    "rfm[\"label\"] = rfm[[\"R\", \"F\", \"M\"]].apply(lambda x: x-x.mean()).apply(rfm_level, axis=1)\n",
    "rfm.head()"
   ]
  },
  {
   "cell_type": "markdown",
   "metadata": {},
   "source": [
    "重要价值分销商有21家，占比35%，此类分销商近期有订单，且累计订单数和销售额均大于平均值，是重点维护对象；  \n",
    "一般发展分销商有10家，占比17%，此类经销商近期有订单，但累计订单数和销售额均小于平均值，是新客户，可重点开发。  \n",
    "一般挽留分销商有21家，此类分销商可视作流失客户。"
   ]
  },
  {
   "cell_type": "code",
   "execution_count": 262,
   "metadata": {},
   "outputs": [
    {
     "data": {
      "text/html": [
       "<div>\n",
       "<style scoped>\n",
       "    .dataframe tbody tr th:only-of-type {\n",
       "        vertical-align: middle;\n",
       "    }\n",
       "\n",
       "    .dataframe tbody tr th {\n",
       "        vertical-align: top;\n",
       "    }\n",
       "\n",
       "    .dataframe thead th {\n",
       "        text-align: right;\n",
       "    }\n",
       "</style>\n",
       "<table border=\"1\" class=\"dataframe\">\n",
       "  <thead>\n",
       "    <tr style=\"text-align: right;\">\n",
       "      <th></th>\n",
       "      <th>R</th>\n",
       "      <th>F</th>\n",
       "      <th>M</th>\n",
       "      <th>pct</th>\n",
       "    </tr>\n",
       "    <tr>\n",
       "      <th>label</th>\n",
       "      <th></th>\n",
       "      <th></th>\n",
       "      <th></th>\n",
       "      <th></th>\n",
       "    </tr>\n",
       "  </thead>\n",
       "  <tbody>\n",
       "    <tr>\n",
       "      <th>一般挽留分销商</th>\n",
       "      <td>21</td>\n",
       "      <td>21</td>\n",
       "      <td>21</td>\n",
       "      <td>0.35</td>\n",
       "    </tr>\n",
       "    <tr>\n",
       "      <th>重要价值分销商</th>\n",
       "      <td>21</td>\n",
       "      <td>21</td>\n",
       "      <td>21</td>\n",
       "      <td>0.35</td>\n",
       "    </tr>\n",
       "    <tr>\n",
       "      <th>一般发展分销商</th>\n",
       "      <td>10</td>\n",
       "      <td>10</td>\n",
       "      <td>10</td>\n",
       "      <td>0.17</td>\n",
       "    </tr>\n",
       "    <tr>\n",
       "      <th>重要挽留分销商</th>\n",
       "      <td>3</td>\n",
       "      <td>3</td>\n",
       "      <td>3</td>\n",
       "      <td>0.05</td>\n",
       "    </tr>\n",
       "    <tr>\n",
       "      <th>一般保持分销商</th>\n",
       "      <td>2</td>\n",
       "      <td>2</td>\n",
       "      <td>2</td>\n",
       "      <td>0.03</td>\n",
       "    </tr>\n",
       "    <tr>\n",
       "      <th>一般价值分销商</th>\n",
       "      <td>1</td>\n",
       "      <td>1</td>\n",
       "      <td>1</td>\n",
       "      <td>0.02</td>\n",
       "    </tr>\n",
       "    <tr>\n",
       "      <th>重要保持分销商</th>\n",
       "      <td>1</td>\n",
       "      <td>1</td>\n",
       "      <td>1</td>\n",
       "      <td>0.02</td>\n",
       "    </tr>\n",
       "    <tr>\n",
       "      <th>重要发展分销商</th>\n",
       "      <td>1</td>\n",
       "      <td>1</td>\n",
       "      <td>1</td>\n",
       "      <td>0.02</td>\n",
       "    </tr>\n",
       "  </tbody>\n",
       "</table>\n",
       "</div>"
      ],
      "text/plain": [
       "          R   F   M  pct\n",
       "label                   \n",
       "一般挽留分销商  21  21  21 0.35\n",
       "重要价值分销商  21  21  21 0.35\n",
       "一般发展分销商  10  10  10 0.17\n",
       "重要挽留分销商   3   3   3 0.05\n",
       "一般保持分销商   2   2   2 0.03\n",
       "一般价值分销商   1   1   1 0.02\n",
       "重要保持分销商   1   1   1 0.02\n",
       "重要发展分销商   1   1   1 0.02"
      ]
     },
     "execution_count": 262,
     "metadata": {},
     "output_type": "execute_result"
    }
   ],
   "source": [
    "df_rfm"
   ]
  },
  {
   "cell_type": "code",
   "execution_count": 260,
   "metadata": {
    "scrolled": true
   },
   "outputs": [],
   "source": [
    "df_rfm = rfm.groupby(\"label\").count().sort_values(\"F\",ascending=False)\n",
    "df_rfm[\"pct\"] = df_rfm[\"F\"]/df_rfm[\"F\"].sum()\n",
    "df_rfm.drop(labels=\"date\",inplace=True,axis=1)\n",
    "df_rfm.columns=[\"R\",\"F\",\"M\",\"pct\"]"
   ]
  },
  {
   "cell_type": "code",
   "execution_count": 261,
   "metadata": {
    "scrolled": false
   },
   "outputs": [
    {
     "data": {
      "text/html": [
       "<div>\n",
       "<style scoped>\n",
       "    .dataframe tbody tr th:only-of-type {\n",
       "        vertical-align: middle;\n",
       "    }\n",
       "\n",
       "    .dataframe tbody tr th {\n",
       "        vertical-align: top;\n",
       "    }\n",
       "\n",
       "    .dataframe thead th {\n",
       "        text-align: right;\n",
       "    }\n",
       "</style>\n",
       "<table border=\"1\" class=\"dataframe\">\n",
       "  <thead>\n",
       "    <tr style=\"text-align: right;\">\n",
       "      <th></th>\n",
       "      <th>date</th>\n",
       "      <th>F</th>\n",
       "      <th>M</th>\n",
       "      <th>R</th>\n",
       "      <th>label</th>\n",
       "    </tr>\n",
       "    <tr>\n",
       "      <th>shop_id</th>\n",
       "      <th></th>\n",
       "      <th></th>\n",
       "      <th></th>\n",
       "      <th></th>\n",
       "      <th></th>\n",
       "    </tr>\n",
       "  </thead>\n",
       "  <tbody>\n",
       "    <tr>\n",
       "      <th>6</th>\n",
       "      <td>2015-10-31</td>\n",
       "      <td>82663</td>\n",
       "      <td>98067453.80</td>\n",
       "      <td>0.00</td>\n",
       "      <td>重要价值分销商</td>\n",
       "    </tr>\n",
       "    <tr>\n",
       "      <th>7</th>\n",
       "      <td>2015-10-31</td>\n",
       "      <td>58076</td>\n",
       "      <td>66957658.55</td>\n",
       "      <td>0.00</td>\n",
       "      <td>重要价值分销商</td>\n",
       "    </tr>\n",
       "    <tr>\n",
       "      <th>15</th>\n",
       "      <td>2015-10-31</td>\n",
       "      <td>59511</td>\n",
       "      <td>68710368.40</td>\n",
       "      <td>0.00</td>\n",
       "      <td>重要价值分销商</td>\n",
       "    </tr>\n",
       "    <tr>\n",
       "      <th>16</th>\n",
       "      <td>2015-10-31</td>\n",
       "      <td>52734</td>\n",
       "      <td>57436486.63</td>\n",
       "      <td>0.00</td>\n",
       "      <td>重要价值分销商</td>\n",
       "    </tr>\n",
       "    <tr>\n",
       "      <th>18</th>\n",
       "      <td>2015-10-31</td>\n",
       "      <td>53227</td>\n",
       "      <td>83392700.99</td>\n",
       "      <td>0.00</td>\n",
       "      <td>重要价值分销商</td>\n",
       "    </tr>\n",
       "    <tr>\n",
       "      <th>19</th>\n",
       "      <td>2015-10-31</td>\n",
       "      <td>63911</td>\n",
       "      <td>64953921.55</td>\n",
       "      <td>0.00</td>\n",
       "      <td>重要价值分销商</td>\n",
       "    </tr>\n",
       "    <tr>\n",
       "      <th>21</th>\n",
       "      <td>2015-10-31</td>\n",
       "      <td>58133</td>\n",
       "      <td>62581387.84</td>\n",
       "      <td>0.00</td>\n",
       "      <td>重要价值分销商</td>\n",
       "    </tr>\n",
       "    <tr>\n",
       "      <th>24</th>\n",
       "      <td>2015-10-31</td>\n",
       "      <td>53032</td>\n",
       "      <td>68811693.47</td>\n",
       "      <td>0.00</td>\n",
       "      <td>重要价值分销商</td>\n",
       "    </tr>\n",
       "    <tr>\n",
       "      <th>25</th>\n",
       "      <td>2015-10-31</td>\n",
       "      <td>186104</td>\n",
       "      <td>216480571.44</td>\n",
       "      <td>0.00</td>\n",
       "      <td>重要价值分销商</td>\n",
       "    </tr>\n",
       "    <tr>\n",
       "      <th>26</th>\n",
       "      <td>2015-10-31</td>\n",
       "      <td>53910</td>\n",
       "      <td>67551089.57</td>\n",
       "      <td>0.00</td>\n",
       "      <td>重要价值分销商</td>\n",
       "    </tr>\n",
       "    <tr>\n",
       "      <th>27</th>\n",
       "      <td>2015-09-30</td>\n",
       "      <td>105366</td>\n",
       "      <td>140632474.12</td>\n",
       "      <td>31.00</td>\n",
       "      <td>重要价值分销商</td>\n",
       "    </tr>\n",
       "    <tr>\n",
       "      <th>28</th>\n",
       "      <td>2015-10-31</td>\n",
       "      <td>142234</td>\n",
       "      <td>159746337.38</td>\n",
       "      <td>0.00</td>\n",
       "      <td>重要价值分销商</td>\n",
       "    </tr>\n",
       "    <tr>\n",
       "      <th>31</th>\n",
       "      <td>2015-10-31</td>\n",
       "      <td>235636</td>\n",
       "      <td>235217019.05</td>\n",
       "      <td>0.00</td>\n",
       "      <td>重要价值分销商</td>\n",
       "    </tr>\n",
       "    <tr>\n",
       "      <th>35</th>\n",
       "      <td>2015-10-31</td>\n",
       "      <td>58445</td>\n",
       "      <td>70204774.88</td>\n",
       "      <td>0.00</td>\n",
       "      <td>重要价值分销商</td>\n",
       "    </tr>\n",
       "    <tr>\n",
       "      <th>42</th>\n",
       "      <td>2015-10-31</td>\n",
       "      <td>109253</td>\n",
       "      <td>151917032.55</td>\n",
       "      <td>0.00</td>\n",
       "      <td>重要价值分销商</td>\n",
       "    </tr>\n",
       "    <tr>\n",
       "      <th>46</th>\n",
       "      <td>2015-10-31</td>\n",
       "      <td>66321</td>\n",
       "      <td>74189318.92</td>\n",
       "      <td>0.00</td>\n",
       "      <td>重要价值分销商</td>\n",
       "    </tr>\n",
       "    <tr>\n",
       "      <th>47</th>\n",
       "      <td>2015-10-31</td>\n",
       "      <td>56695</td>\n",
       "      <td>74882096.25</td>\n",
       "      <td>0.00</td>\n",
       "      <td>重要价值分销商</td>\n",
       "    </tr>\n",
       "    <tr>\n",
       "      <th>50</th>\n",
       "      <td>2015-10-31</td>\n",
       "      <td>65173</td>\n",
       "      <td>77950597.50</td>\n",
       "      <td>0.00</td>\n",
       "      <td>重要价值分销商</td>\n",
       "    </tr>\n",
       "    <tr>\n",
       "      <th>56</th>\n",
       "      <td>2015-10-31</td>\n",
       "      <td>69573</td>\n",
       "      <td>58605903.53</td>\n",
       "      <td>0.00</td>\n",
       "      <td>重要价值分销商</td>\n",
       "    </tr>\n",
       "    <tr>\n",
       "      <th>57</th>\n",
       "      <td>2015-10-31</td>\n",
       "      <td>117428</td>\n",
       "      <td>112999783.53</td>\n",
       "      <td>0.00</td>\n",
       "      <td>重要价值分销商</td>\n",
       "    </tr>\n",
       "    <tr>\n",
       "      <th>58</th>\n",
       "      <td>2015-10-31</td>\n",
       "      <td>71441</td>\n",
       "      <td>68737617.83</td>\n",
       "      <td>0.00</td>\n",
       "      <td>重要价值分销商</td>\n",
       "    </tr>\n",
       "  </tbody>\n",
       "</table>\n",
       "</div>"
      ],
      "text/plain": [
       "              date       F            M     R    label\n",
       "shop_id                                               \n",
       "6       2015-10-31   82663  98067453.80  0.00  重要价值分销商\n",
       "7       2015-10-31   58076  66957658.55  0.00  重要价值分销商\n",
       "15      2015-10-31   59511  68710368.40  0.00  重要价值分销商\n",
       "16      2015-10-31   52734  57436486.63  0.00  重要价值分销商\n",
       "18      2015-10-31   53227  83392700.99  0.00  重要价值分销商\n",
       "19      2015-10-31   63911  64953921.55  0.00  重要价值分销商\n",
       "21      2015-10-31   58133  62581387.84  0.00  重要价值分销商\n",
       "24      2015-10-31   53032  68811693.47  0.00  重要价值分销商\n",
       "25      2015-10-31  186104 216480571.44  0.00  重要价值分销商\n",
       "26      2015-10-31   53910  67551089.57  0.00  重要价值分销商\n",
       "27      2015-09-30  105366 140632474.12 31.00  重要价值分销商\n",
       "28      2015-10-31  142234 159746337.38  0.00  重要价值分销商\n",
       "31      2015-10-31  235636 235217019.05  0.00  重要价值分销商\n",
       "35      2015-10-31   58445  70204774.88  0.00  重要价值分销商\n",
       "42      2015-10-31  109253 151917032.55  0.00  重要价值分销商\n",
       "46      2015-10-31   66321  74189318.92  0.00  重要价值分销商\n",
       "47      2015-10-31   56695  74882096.25  0.00  重要价值分销商\n",
       "50      2015-10-31   65173  77950597.50  0.00  重要价值分销商\n",
       "56      2015-10-31   69573  58605903.53  0.00  重要价值分销商\n",
       "57      2015-10-31  117428 112999783.53  0.00  重要价值分销商\n",
       "58      2015-10-31   71441  68737617.83  0.00  重要价值分销商"
      ]
     },
     "execution_count": 261,
     "metadata": {},
     "output_type": "execute_result"
    }
   ],
   "source": [
    "rfm.loc[rfm.label == \"重要价值分销商\"]"
   ]
  },
  {
   "cell_type": "code",
   "execution_count": 254,
   "metadata": {
    "scrolled": false
   },
   "outputs": [
    {
     "data": {
      "text/html": [
       "<div>\n",
       "<style scoped>\n",
       "    .dataframe tbody tr th:only-of-type {\n",
       "        vertical-align: middle;\n",
       "    }\n",
       "\n",
       "    .dataframe tbody tr th {\n",
       "        vertical-align: top;\n",
       "    }\n",
       "\n",
       "    .dataframe thead th {\n",
       "        text-align: right;\n",
       "    }\n",
       "</style>\n",
       "<table border=\"1\" class=\"dataframe\">\n",
       "  <thead>\n",
       "    <tr style=\"text-align: right;\">\n",
       "      <th></th>\n",
       "      <th>date</th>\n",
       "      <th>F</th>\n",
       "      <th>M</th>\n",
       "      <th>R</th>\n",
       "      <th>label</th>\n",
       "    </tr>\n",
       "    <tr>\n",
       "      <th>shop_id</th>\n",
       "      <th></th>\n",
       "      <th></th>\n",
       "      <th></th>\n",
       "      <th></th>\n",
       "      <th></th>\n",
       "    </tr>\n",
       "  </thead>\n",
       "  <tbody>\n",
       "    <tr>\n",
       "      <th>4</th>\n",
       "      <td>2015-10-31</td>\n",
       "      <td>38242</td>\n",
       "      <td>40539650.32</td>\n",
       "      <td>0.00</td>\n",
       "      <td>一般挽留分销商</td>\n",
       "    </tr>\n",
       "    <tr>\n",
       "      <th>17</th>\n",
       "      <td>2015-01-18</td>\n",
       "      <td>22950</td>\n",
       "      <td>27784948.30</td>\n",
       "      <td>286.00</td>\n",
       "      <td>一般发展分销商</td>\n",
       "    </tr>\n",
       "    <tr>\n",
       "      <th>47</th>\n",
       "      <td>2015-10-31</td>\n",
       "      <td>56695</td>\n",
       "      <td>74882096.25</td>\n",
       "      <td>0.00</td>\n",
       "      <td>重要价值分销商</td>\n",
       "    </tr>\n",
       "  </tbody>\n",
       "</table>\n",
       "</div>"
      ],
      "text/plain": [
       "              date      F           M      R    label\n",
       "shop_id                                              \n",
       "4       2015-10-31  38242 40539650.32   0.00  一般挽留分销商\n",
       "17      2015-01-18  22950 27784948.30 286.00  一般发展分销商\n",
       "47      2015-10-31  56695 74882096.25   0.00  重要价值分销商"
      ]
     },
     "execution_count": 254,
     "metadata": {},
     "output_type": "execute_result"
    }
   ],
   "source": [
    "rfm.loc[rfm.index.isin([4,17,47])]"
   ]
  }
 ],
 "metadata": {
  "kernelspec": {
   "display_name": "Python 3",
   "language": "python",
   "name": "python3"
  },
  "language_info": {
   "codemirror_mode": {
    "name": "ipython",
    "version": 3
   },
   "file_extension": ".py",
   "mimetype": "text/x-python",
   "name": "python",
   "nbconvert_exporter": "python",
   "pygments_lexer": "ipython3",
   "version": "3.7.0"
  }
 },
 "nbformat": 4,
 "nbformat_minor": 2
}
